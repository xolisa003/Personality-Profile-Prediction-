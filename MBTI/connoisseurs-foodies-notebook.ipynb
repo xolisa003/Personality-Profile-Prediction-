{
 "cells": [
  {
   "cell_type": "code",
   "execution_count": 1,
   "metadata": {},
   "outputs": [
    {
     "name": "stdout",
     "output_type": "stream",
     "text": [
      "['random_example.csv', 'test.csv', 'train.csv']\n"
     ]
    }
   ],
   "source": [
    "import os\n",
    "print(os.listdir(\"../input\"))"
   ]
  },
  {
   "cell_type": "markdown",
   "metadata": {
    "colab_type": "text",
    "id": "cU0Rs5ypqmTS"
   },
   "source": [
    "# MBTI classification notebook\n",
    "## Team 14 Kaggle competition (connoisseurs_foodies)\n",
    "\n",
    "\"I tweet, therefore I am...\" Not really, but what we write can provide insight into our type of personality. In this competition, we aim to build a classifier that will be able to predict a person's personality based on what they write in twitter posts. The 16 MBTI personality types will be used, which is given by four binary variables as follows:\n",
    "\n",
    "- Mind: Introverted (I) or Extroverted (E) \n",
    "- Energy: Sensing (S) or Intuitive (N) \n",
    "- Nature: Feeling (F) or Thinking (T) \n",
    "- Tactics: Perceiving (P) or Judging (J)\n",
    "\n",
    "A training set with rows of tweets and associated personality types have been provided, as well as a test set containing only tweet posts.\n",
    "\n",
    "Our task is to predict each one of the categories, mind, energy, nature, and tactics, separately. The combination of the four predictions will then provide the overall personality type.\n",
    "\n",
    "The categories will be encoded as follows: \n",
    "- Mind: I = 0, E = 1 \n",
    "- Energy: S = 0, N = 1 \n",
    "- Nature: F = 0, T = 1 \n",
    "- Tactics: P = 0, J = 1"
   ]
  },
  {
   "cell_type": "markdown",
   "metadata": {
    "colab_type": "text",
    "id": "UJSHzV01dDRs"
   },
   "source": [
    "# Data exploration and cleaning"
   ]
  },
  {
   "cell_type": "markdown",
   "metadata": {
    "colab_type": "text",
    "id": "7XemDDKtuTjo"
   },
   "source": [
    "## Loading data and constructing separate categories"
   ]
  },
  {
   "cell_type": "code",
   "execution_count": 2,
   "metadata": {
    "colab": {},
    "colab_type": "code",
    "id": "L7uVgtdW4Yh9"
   },
   "outputs": [],
   "source": [
    "# Import libraries for data manipulation and viewing\n",
    "import numpy as np\n",
    "import pandas as pd\n",
    "\n",
    "import matplotlib.pyplot as plt\n",
    "import seaborn as sns\n",
    "\n",
    "%matplotlib inline"
   ]
  },
  {
   "cell_type": "code",
   "execution_count": 3,
   "metadata": {
    "colab": {
     "base_uri": "https://localhost:8080/",
     "height": 318
    },
    "colab_type": "code",
    "id": "yvKTZLJ432wX",
    "outputId": "44077db6-69ce-423b-991c-3704b17179f6"
   },
   "outputs": [
    {
     "name": "stdout",
     "output_type": "stream",
     "text": [
      "Train info:\n",
      "<class 'pandas.core.frame.DataFrame'>\n",
      "RangeIndex: 6506 entries, 0 to 6505\n",
      "Data columns (total 2 columns):\n",
      "type     6506 non-null object\n",
      "posts    6506 non-null object\n",
      "dtypes: object(2)\n",
      "memory usage: 101.7+ KB\n",
      "\n",
      "Test info:\n",
      "<class 'pandas.core.frame.DataFrame'>\n",
      "RangeIndex: 2169 entries, 0 to 2168\n",
      "Data columns (total 2 columns):\n",
      "id       2169 non-null int64\n",
      "posts    2169 non-null object\n",
      "dtypes: int64(1), object(1)\n",
      "memory usage: 34.0+ KB\n"
     ]
    }
   ],
   "source": [
    "# Load the provided training and test data into dataframes\n",
    "train = pd.read_csv('../input/train.csv' )\n",
    "test = pd.read_csv('../input/test.csv' )\n",
    "\n",
    "# Check the dataframe sizes, type assignments, and missing values\n",
    "print('Train info:')\n",
    "train.info()\n",
    "print('\\nTest info:')\n",
    "test.info()"
   ]
  },
  {
   "cell_type": "code",
   "execution_count": 4,
   "metadata": {
    "colab": {
     "base_uri": "https://localhost:8080/",
     "height": 354
    },
    "colab_type": "code",
    "id": "1QhO0Hcy9aIu",
    "outputId": "2d2ca05f-23c8-45ae-a3e8-c42d8f35a530"
   },
   "outputs": [
    {
     "data": {
      "text/plain": [
       "<matplotlib.axes._subplots.AxesSubplot at 0x7fcbbf845908>"
      ]
     },
     "execution_count": 4,
     "metadata": {},
     "output_type": "execute_result"
    },
    {
     "data": {
      "image/png": "[encoded data removed]",
      "text/plain": [
       "<Figure size 1584x360 with 1 Axes>"
      ]
     },
     "metadata": {
      "needs_background": "light"
     },
     "output_type": "display_data"
    }
   ],
   "source": [
    "# View the frequencies of the personality types\n",
    "plt.subplots(figsize=(22, 5))\n",
    "sns.countplot(train['type'].sort_values(), palette='Accent')"
   ]
  },
  {
   "cell_type": "markdown",
   "metadata": {
    "colab_type": "text",
    "id": "Rsz26fLJ4wTE"
   },
   "source": [
    "From the dataframe information, we can see that the training set contains around three times more entries than the test set. Neither set has any missing values or faulty data type assignments. Looking at the counts of each personality type in the training set, it is clear that the majority of posts are from  IN__ type personalities. \n",
    "\n",
    "As we need to predict each personality type category individually, we will separate the categories into columns and encode them as noted above:\n",
    "- Mind: I = 0, E = 1 \n",
    "- Energy: S = 0, N = 1 \n",
    "- Nature: F = 0, T = 1 \n",
    "- Tactics: P = 0, J = 1"
   ]
  },
  {
   "cell_type": "code",
   "execution_count": 5,
   "metadata": {
    "colab": {},
    "colab_type": "code",
    "id": "5mdKYvocqR7J"
   },
   "outputs": [],
   "source": [
    "# Separate type categories\n",
    "train['mind'] = train['type'].str[0]\n",
    "train['energy'] = train['type'].str[1]\n",
    "train['nature'] = train['type'].str[2]\n",
    "train['tactics'] = train['type'].str[3]"
   ]
  },
  {
   "cell_type": "code",
   "execution_count": 6,
   "metadata": {
    "colab": {
     "base_uri": "https://localhost:8080/",
     "height": 197
    },
    "colab_type": "code",
    "id": "7lMKBVxYuRD7",
    "outputId": "c42326f9-9607-4f30-8230-e53b2846a7a5"
   },
   "outputs": [
    {
     "data": {
      "text/html": [
       "<div>\n",
       "<style scoped>\n",
       "    .dataframe tbody tr th:only-of-type {\n",
       "        vertical-align: middle;\n",
       "    }\n",
       "\n",
       "    .dataframe tbody tr th {\n",
       "        vertical-align: top;\n",
       "    }\n",
       "\n",
       "    .dataframe thead th {\n",
       "        text-align: right;\n",
       "    }\n",
       "</style>\n",
       "<table border=\"1\" class=\"dataframe\">\n",
       "  <thead>\n",
       "    <tr style=\"text-align: right;\">\n",
       "      <th></th>\n",
       "      <th>type</th>\n",
       "      <th>posts</th>\n",
       "      <th>mind</th>\n",
       "      <th>energy</th>\n",
       "      <th>nature</th>\n",
       "      <th>tactics</th>\n",
       "    </tr>\n",
       "  </thead>\n",
       "  <tbody>\n",
       "    <tr>\n",
       "      <th>0</th>\n",
       "      <td>INFJ</td>\n",
       "      <td>'http://www.youtube.com/watch?v=qsXHcwe3krw|||...</td>\n",
       "      <td>0</td>\n",
       "      <td>1</td>\n",
       "      <td>0</td>\n",
       "      <td>1</td>\n",
       "    </tr>\n",
       "    <tr>\n",
       "      <th>1</th>\n",
       "      <td>ENTP</td>\n",
       "      <td>'I'm finding the lack of me in these posts ver...</td>\n",
       "      <td>1</td>\n",
       "      <td>1</td>\n",
       "      <td>1</td>\n",
       "      <td>0</td>\n",
       "    </tr>\n",
       "    <tr>\n",
       "      <th>2</th>\n",
       "      <td>INTP</td>\n",
       "      <td>'Good one  _____   https://www.youtube.com/wat...</td>\n",
       "      <td>0</td>\n",
       "      <td>1</td>\n",
       "      <td>1</td>\n",
       "      <td>0</td>\n",
       "    </tr>\n",
       "    <tr>\n",
       "      <th>3</th>\n",
       "      <td>INTJ</td>\n",
       "      <td>'Dear INTP,   I enjoyed our conversation the o...</td>\n",
       "      <td>0</td>\n",
       "      <td>1</td>\n",
       "      <td>1</td>\n",
       "      <td>1</td>\n",
       "    </tr>\n",
       "    <tr>\n",
       "      <th>4</th>\n",
       "      <td>ENTJ</td>\n",
       "      <td>'You're fired.|||That's another silly misconce...</td>\n",
       "      <td>1</td>\n",
       "      <td>1</td>\n",
       "      <td>1</td>\n",
       "      <td>1</td>\n",
       "    </tr>\n",
       "  </tbody>\n",
       "</table>\n",
       "</div>"
      ],
      "text/plain": [
       "   type   ...   tactics\n",
       "0  INFJ   ...         1\n",
       "1  ENTP   ...         0\n",
       "2  INTP   ...         0\n",
       "3  INTJ   ...         1\n",
       "4  ENTJ   ...         1\n",
       "\n",
       "[5 rows x 6 columns]"
      ]
     },
     "execution_count": 6,
     "metadata": {},
     "output_type": "execute_result"
    }
   ],
   "source": [
    "# Encode category letters as either 0 or 1 \n",
    "train['mind'] = train['mind'].apply(lambda x: 0 if x == 'I' else 1)\n",
    "train['energy'] = train['energy'].apply(lambda x: 0 if x == 'S' else 1)\n",
    "train['nature'] = train['nature'].apply(lambda x: 0 if x == 'F' else 1)\n",
    "train['tactics'] = train['tactics'].apply(lambda x: 0 if x == 'P' else 1)\n",
    "\n",
    "train.head()"
   ]
  },
  {
   "cell_type": "markdown",
   "metadata": {
    "colab_type": "text",
    "id": "_M0nLDW7hTa5"
   },
   "source": [
    "The twitter posts contain a variety of words, punctuation characters that form part of text, part of links to webpages, or indicate new tweets, various uses of capitalization, and  emoticons (emoji's) to list a few. Different personality types might have different preferences in the way they use words and text characters to express themselves. Thus, in order to use the twitter posts constructively for personality type classification, we need to preform some general text cleaning and processing."
   ]
  },
  {
   "cell_type": "markdown",
   "metadata": {
    "colab_type": "text",
    "id": "B1OhO5KlsnOK"
   },
   "source": [
    "## Text cleaning and processing"
   ]
  },
  {
   "cell_type": "markdown",
   "metadata": {
    "colab_type": "text",
    "id": "7EKjHSHE6YT9"
   },
   "source": [
    "To perform the same cleaning and processing on both the training set posts and the test set posts, we will define functions for specific tasks. We can then apply the same function to both sets of posts. \n",
    "\n",
    "The first function uses regular expressions to identify character sequences and \"clean-up\" some of text in the following way:\n",
    "- Webpage links would be replaced by the word 'url'.\n",
    "- Twitter handles will be replaced by the word 'twithandle'\n",
    "- Apostrophe suffixes would be replaced by the corresponding words. This would enable better matching and vectorization of pronouns.\n",
    "- A selection of punctuation would be removed. We will not remove all punctuation as we hypothesize that the use of exclamation and question marks might differ between personalty types.\n",
    "- All words would be converted to lower case.\n"
   ]
  },
  {
   "cell_type": "code",
   "execution_count": 7,
   "metadata": {
    "colab": {},
    "colab_type": "code",
    "id": "rA46KvRKF8OB"
   },
   "outputs": [],
   "source": [
    "import re\n",
    "\n",
    "def word_replace(df):\n",
    "    \n",
    "    \"\"\"Converts apostrophe suffixes to words, replace webpage links with url, annotate hashtags and mentions, remove a selection of punctuation, and convert all words to lower case.\n",
    "    Args:\n",
    "        df (DataFrame): dataframe containing 'posts' column to convert\n",
    "    Returns:\n",
    "        df (DataFrame): dataframe with converted 'posts' column \n",
    "    \"\"\"\n",
    "\n",
    "    # Change all webpage links to 'url'\n",
    "    df['posts'] = df['posts'].str.replace(r'http.?://[^\\s]+[\\s]?', 'url ')\n",
    "    \n",
    "    # Replace apostrophe's with words\n",
    "    df['posts'] = df['posts'].str.replace(r'n\\'t', ' not')\n",
    "    df['posts'] = df['posts'].str.replace(r'\\'s', ' is')\n",
    "    df['posts'] = df['posts'].str.replace(r'\\'m', ' am')\n",
    "    df['posts'] = df['posts'].str.replace(r'\\'re', ' are')\n",
    "    df['posts'] = df['posts'].str.replace(r'\\'ve', ' have')\n",
    "    df['posts'] = df['posts'].str.replace(r'\\'ll', ' will')\n",
    "    df['posts'] = df['posts'].str.replace(r'\\'d', ' would')\n",
    "\n",
    "    # Replace # and @ with word\n",
    "    df['posts'] = df['posts'].str.replace(r'#|@', 'twithandle ')\n",
    "    \n",
    "    # Remove selected punctuation\n",
    "    df['posts'] = df['posts'].str.replace(r\"[',.():|-]\", \" \")\n",
    "\n",
    "    # Convert all words to lower case\n",
    "    df['posts'] = df['posts'].str.lower()\n",
    "    \n",
    "    return df"
   ]
  },
  {
   "cell_type": "code",
   "execution_count": 8,
   "metadata": {
    "colab": {},
    "colab_type": "code",
    "id": "2nGGQV4t1oBF"
   },
   "outputs": [],
   "source": [
    "# Replace webpages, apostrophe's, selected punctuation etc.\n",
    "train_clean = word_replace(train.copy())\n",
    "test_clean = word_replace(test.copy())"
   ]
  },
  {
   "cell_type": "markdown",
   "metadata": {
    "colab_type": "text",
    "id": "tbOsqeRU1btG"
   },
   "source": [
    "In order to turn a sequence of words of type string into a vector, we need to convert each sequence into a list of word units or tokens. There are various ways to go about it, such as to split the string on white spaces of example. As we are dealing with twitter posts, we decided to use the TweetTokenizer within the natural language toolkit (nltk) library to perform word tokenization. The TweetTokenizer will preserve emoticons when splitting string sequences into tokens.\n",
    "\n",
    "We will also employ the nltk library, WordNetLemmatizer, to transform the word tokens to their corresponding root words (i.e. their lemma or dictionary form). "
   ]
  },
  {
   "cell_type": "markdown",
   "metadata": {
    "colab_type": "text",
    "id": "FTxb4-RNKBBc"
   },
   "source": [
    "*Reveal and run the code below to import and download nltk libraries*"
   ]
  },
  {
   "cell_type": "code",
   "execution_count": 9,
   "metadata": {
    "colab": {},
    "colab_type": "code",
    "id": "43k9RQTvtgg5"
   },
   "outputs": [],
   "source": [
    "# # Download NLTK libraries\n",
    "# import nltk\n",
    "# nltk.download()"
   ]
  },
  {
   "cell_type": "code",
   "execution_count": 10,
   "metadata": {
    "colab": {},
    "colab_type": "code",
    "id": "B06Tp9XDSjF1"
   },
   "outputs": [],
   "source": [
    "# Import required nltk functions \n",
    "from nltk.tokenize import TweetTokenizer\n",
    "from nltk.stem import WordNetLemmatizer\n",
    "\n",
    "get_tokens = TweetTokenizer()\n",
    "get_lemmas = WordNetLemmatizer()\n",
    "\n",
    "# Define tokenization and lemmetization function\n",
    "def tokenize_lemmatize(df):\n",
    "    \n",
    "    \"\"\"Tokenize and lemmatize posts.\n",
    "    Args:\n",
    "        df (DataFrame): dataframe containing 'posts' column to convert\n",
    "    Returns:\n",
    "        df (DataFrame): dataframe with converted 'posts' column   \n",
    "    \"\"\"\n",
    "    \n",
    "    df['posts'] = df.apply(lambda row: [get_lemmas.lemmatize(w) for w in get_tokens.tokenize(row['posts'])], axis=1)  #Tokenize and lemmatize\n",
    "    \n",
    "    return df\n",
    "  "
   ]
  },
  {
   "cell_type": "code",
   "execution_count": 11,
   "metadata": {
    "colab": {},
    "colab_type": "code",
    "id": "oA7T_UlJ2bYs"
   },
   "outputs": [],
   "source": [
    "# Tokenize and lemmatize posts\n",
    "train_clean = tokenize_lemmatize(train_clean.copy())\n",
    "test_clean = tokenize_lemmatize(test_clean.copy())"
   ]
  },
  {
   "cell_type": "markdown",
   "metadata": {
    "colab_type": "text",
    "id": "WO0vmsNvODpm"
   },
   "source": [
    "As we are dealing with twitter posts that contain emoticons. As we hypothesize that different personality types might have different preferences around the use of emoticons, we will denote all emoticons with the word 'emoji'. We will again write a function in order to equally perform the transformation on both the training and test sets.\n",
    "Initially, we more or less manually found the sequences and replaced the 🦄 in the posts. However, we resorted to use the emoji library to facilitate the transformations with more ease.\n",
    "\n",
    "Some of the emoticons found in the posts are as follows:\n",
    "\n",
    "🌹 🍄 🐍 👈 👋 👌 👍 👏 💎 💓 💖 💛 🔥 🕚 😀 😁 😂 😃 😄 😅 😆 😇 😉 😊 😋 😌 😍 😎 😏 😐 😓 😕 😘 😜 😝 😞 😡 😢 😣 😧 😫 😬 😮 😱 😳 😴 😺 🙋 🤓 🤔 🤗 🦄 ✌ ✍ ✨\n",
    "\n"
   ]
  },
  {
   "cell_type": "markdown",
   "metadata": {
    "colab_type": "text",
    "id": "5EhmZpHdNQOD"
   },
   "source": [
    "*Reveal and run the code below to import the emoji library*"
   ]
  },
  {
   "cell_type": "code",
   "execution_count": 12,
   "metadata": {
    "colab": {
     "base_uri": "https://localhost:8080/",
     "height": 105
    },
    "colab_type": "code",
    "id": "iEiyuTxvsyF_",
    "outputId": "8e773a34-5813-4ba6-96fc-cf13d3bca872"
   },
   "outputs": [],
   "source": [
    "# # Install emoji library\n",
    "# !pip install emoji"
   ]
  },
  {
   "cell_type": "code",
   "execution_count": 13,
   "metadata": {
    "colab": {},
    "colab_type": "code",
    "id": "AgfOV_QyhVHj"
   },
   "outputs": [],
   "source": [
    "import emoji\n",
    "\n",
    "# Create list of emoticon codes\n",
    "emojies = set(emoji.UNICODE_EMOJI.keys())\n",
    "\n",
    "# Define emoticon replacement functions\n",
    "def swap_emoji(word):\n",
    "    \n",
    "    \"\"\"Replace emoticon with 'emoji'.\n",
    "    Args:\n",
    "        word (str): word to replace\n",
    "    Returns:\n",
    "        word (str): replacement word   \n",
    "    \"\"\"\n",
    "    \n",
    "    if word in emojies:      #  replace emoticon\n",
    "        return 'emoji'\n",
    "    \n",
    "    return word \n",
    "\n",
    "\n",
    "def emoji_convert(df):\n",
    "    \n",
    "    \"\"\"Iterate through post and replace emoticons with 'emoji'.\n",
    "    Args:\n",
    "        df (DataFrame): dataframe containing 'posts' column to convert\n",
    "    Returns:\n",
    "        df (DataFrame): dataframe with converted 'posts' column   \n",
    "    \"\"\" \n",
    "    \n",
    "    df['posts'] = df['posts'].apply(lambda row: [swap_emoji(word) for word in row])   #  apply swap_emoji function to words in posts\n",
    "    \n",
    "    return df\n"
   ]
  },
  {
   "cell_type": "code",
   "execution_count": 14,
   "metadata": {
    "colab": {},
    "colab_type": "code",
    "id": "Pmoj2CfH37I3"
   },
   "outputs": [],
   "source": [
    "# Substitute emoticon codes with 'emoji'\n",
    "train_clean = emoji_convert(train_clean.copy())\n",
    "test_clean = emoji_convert(test_clean.copy())"
   ]
  },
  {
   "cell_type": "markdown",
   "metadata": {
    "colab_type": "text",
    "id": "1uLXHZanUD8i"
   },
   "source": [
    "The English language contains multiple conjunctions and words that support sentence structure, but do not add much meaning. These words usually have a high frequency in text documents, and can be seen as noise in the text data. To decrease the noise and also decrease the number of words in the posts, we will remove these \"words of little meaning\" or stopwords. The nltk library have a list of such stopwords, which also include pronouns. Since we hypothesize that the use of pronouns might differ between personality types, we will remove the pronouns from the stopword list before using the list to remove stopwords from the posts."
   ]
  },
  {
   "cell_type": "markdown",
   "metadata": {
    "colab_type": "text",
    "id": "H5rS7b6YYUgX"
   },
   "source": [
    "The list of nltk English stopwords is as follows:\n",
    "\n",
    "['i', 'me', 'my', 'myself', 'we', 'our', 'ours', 'ourselves', 'you', \"you're\", \"you've\", \"you'll\", \"you'd\", 'your', 'yours', 'yourself', 'yourselves', 'he', 'him', 'his', 'himself', 'she', \"she's\", 'her', 'hers', 'herself', 'it', \"it's\", 'its', 'itself', 'they', 'them', 'their', 'theirs', 'themselves', 'what', 'which', 'who', 'whom', 'this', 'that', \"that'll\", 'these', 'those', 'am', 'is', 'are', 'was', 'were', 'be', 'been', 'being', 'have', 'has', 'had', 'having', 'do', 'does', 'did', 'doing', 'a', 'an', 'the', 'and', 'but', 'if', 'or', 'because', 'as', 'until', 'while', 'of', 'at', 'by', 'for', 'with', 'about', 'against', 'between', 'into', 'through', 'during', 'before', 'after', 'above', 'below', 'to', 'from', 'up', 'down', 'in', 'out', 'on', 'off', 'over', 'under', 'again', 'further', 'then', 'once', 'here', 'there', 'when', 'where', 'why', 'how', 'all', 'any', 'both', 'each', 'few', 'more', 'most', 'other', 'some', 'such', 'no', 'nor', 'not', 'only', 'own', 'same', 'so', 'than', 'too', 'very', 's', 't', 'can', 'will', 'just', 'don', \"don't\", 'should', \"should've\", 'now', 'd', 'll', 'm', 'o', 're', 've', 'y', 'ain', 'aren', \"aren't\", 'couldn', \"couldn't\", 'didn', \"didn't\", 'doesn', \"doesn't\", 'hadn', \"hadn't\", 'hasn', \"hasn't\", 'haven', \"haven't\", 'isn', \"isn't\", 'ma', 'mightn', \"mightn't\", 'mustn', \"mustn't\", 'needn', \"needn't\", 'shan', \"shan't\", 'shouldn', \"shouldn't\", 'wasn', \"wasn't\", 'weren', \"weren't\", 'won', \"won't\", 'wouldn', \"wouldn't\"]"
   ]
  },
  {
   "cell_type": "code",
   "execution_count": 15,
   "metadata": {
    "colab": {},
    "colab_type": "code",
    "id": "4Ep3dEZ6F9SR"
   },
   "outputs": [],
   "source": [
    "from nltk.corpus import stopwords\n",
    "\n",
    "# List nltk English stopwords and add 'could' and 'would'\n",
    "stop_words = stopwords.words('english')\n",
    "stop_words = stop_words + ['could', 'would']\n",
    "\n",
    "# Remove selected pronouns from stopword list\n",
    "stop_words = [w for w in stop_words if w not in ['i', 'me', 'my', 'myself', 'we', 'our', 'ours', 'ourselves', 'you', 'your', 'yours', 'yourself', 'yourselves', 'he', 'him', 'his', 'himself', 'she', 'her', 'hers', 'herself', 'it', 'its', 'itself', 'they', 'them', 'their', 'theirs', 'themselves']]\n",
    "\n",
    "# Define function to remove stopwords\n",
    "def remove_words(df):\n",
    "    \n",
    "    \"\"\"Remove stopwords from posts.\n",
    "    Args:\n",
    "        df (DataFrame): dataframe containing 'posts' column to convert\n",
    "    Returns:\n",
    "        df (DataFrame): dataframe with converted 'posts' column   \n",
    "    \"\"\" \n",
    "    \n",
    "    df['posts'] = df['posts'].apply(lambda row: [word for word in row if word not in stop_words])   #iterate through words in posts and eliminate stopwords\n",
    "    \n",
    "    return df"
   ]
  },
  {
   "cell_type": "code",
   "execution_count": 16,
   "metadata": {
    "colab": {},
    "colab_type": "code",
    "id": "YtSGOD5S4xw7"
   },
   "outputs": [],
   "source": [
    "# Remove stop words from tokens\n",
    "train_clean = remove_words(train_clean.copy())\n",
    "test_clean = remove_words(test_clean.copy())"
   ]
  },
  {
   "cell_type": "markdown",
   "metadata": {
    "colab_type": "text",
    "id": "uxtD3GB_ZVEY"
   },
   "source": [
    "## Visualize character use by personality category"
   ]
  },
  {
   "cell_type": "markdown",
   "metadata": {
    "colab_type": "text",
    "id": "wrWwc6yvhYdO"
   },
   "source": [
    "With the processed and cleaned posts, we can explore and visualize some of the word tokens."
   ]
  },
  {
   "cell_type": "code",
   "execution_count": 17,
   "metadata": {
    "colab": {
     "base_uri": "https://localhost:8080/",
     "height": 290
    },
    "colab_type": "code",
    "id": "wvsDCEWL872t",
    "outputId": "bb88dd8e-0edf-47cc-9882-060d19c5fc5d"
   },
   "outputs": [
    {
     "name": "stdout",
     "output_type": "stream",
     "text": [
      "Number of posts per personality catagory:\n"
     ]
    },
    {
     "data": {
      "image/png": "[encoded data removed]",
      "text/plain": [
       "<Figure size 1584x7200 with 4 Axes>"
      ]
     },
     "metadata": {
      "needs_background": "light"
     },
     "output_type": "display_data"
    }
   ],
   "source": [
    "# Create personality catagory and annotation lists\n",
    "columns = ['mind', 'energy', 'nature', 'tactics']\n",
    "ticks = [('I', 'E'), ('S', 'N'), ('F', 'T'), ('P', 'J')]\n",
    "\n",
    "# Plot the number of posts per personality category\n",
    "print('Number of posts per personality catagory:')\n",
    "plt.subplots(figsize=(22, 100))\n",
    "for i in range(len(columns)):\n",
    "    j = i+1\n",
    "    plt.subplot(22,4,j)\n",
    "    ax = sns.countplot(train_clean[columns[i]], palette='Accent')\n",
    "    ax.set_xticklabels(ticks[i])"
   ]
  },
  {
   "cell_type": "code",
   "execution_count": 18,
   "metadata": {},
   "outputs": [
    {
     "name": "stdout",
     "output_type": "stream",
     "text": [
      "E:I = 0.23 : 0.77\n",
      "N:S = 0.86 : 0.14\n",
      "T:F = 0.46 : 0.54\n",
      "J:P = 0.4 : 0.6\n"
     ]
    }
   ],
   "source": [
    "# Calculate personality category class distributions\n",
    "E = train_clean['mind'][train_clean['mind'] == 1].count() / train_clean['mind'].count()\n",
    "print('E:I = {} : {}'.format(round(E, 2), 1-round(E, 2)))\n",
    "\n",
    "N = train_clean['energy'][train_clean['energy'] == 1].count() / train_clean['energy'].count()\n",
    "print('N:S = {} : {}'.format(round(N, 2), 1-round(N, 2)))\n",
    "\n",
    "T = train_clean['nature'][train_clean['nature'] == 1].count() / train_clean['nature'].count()\n",
    "print('T:F = {} : {}'.format(round(T, 2), 1-round(T, 2)))\n",
    "\n",
    "J = train_clean['tactics'][train_clean['tactics'] == 1].count() / train_clean['tactics'].count()\n",
    "print('J:P = {} : {}'.format(round(J, 2), 1-round(J, 2)))"
   ]
  },
  {
   "cell_type": "code",
   "execution_count": 19,
   "metadata": {
    "colab": {
     "base_uri": "https://localhost:8080/",
     "height": 290
    },
    "colab_type": "code",
    "id": "6Uf7Xot84iOr",
    "outputId": "049b4d4b-a92a-4ec4-bfb7-7f6a2896de50"
   },
   "outputs": [
    {
     "name": "stdout",
     "output_type": "stream",
     "text": [
      "Average number of emoticons used per personality category:\n"
     ]
    },
    {
     "data": {
      "image/png": "[encoded data removed]",
      "text/plain": [
       "<Figure size 1584x7200 with 4 Axes>"
      ]
     },
     "metadata": {
      "needs_background": "light"
     },
     "output_type": "display_data"
    }
   ],
   "source": [
    "# Count the number of emoticons used\n",
    "train_clean['emoji_count'] = train_clean['posts'].apply(lambda row: len(['emoji' for word in row if word == 'emoji']))\n",
    "\n",
    "# Plot the average number of emoticons used per personality category\n",
    "print('Average number of emoticons used per personality category:')\n",
    "plt.subplots(figsize=(22, 100))\n",
    "for i in range(len(columns)):\n",
    "    j = i+1\n",
    "    plt.subplot(22,4,j)\n",
    "    df = train_clean.groupby(columns[i])[['emoji_count']].mean()\n",
    "    df.index = ticks[i]\n",
    "    sns.barplot(x=df.index, y=df['emoji_count'], palette='Greens')\n",
    "    plt.xlabel(columns[i])"
   ]
  },
  {
   "cell_type": "code",
   "execution_count": 20,
   "metadata": {
    "colab": {
     "base_uri": "https://localhost:8080/",
     "height": 290
    },
    "colab_type": "code",
    "id": "Zv2sLvcU6HA8",
    "outputId": "367f04a9-6aea-4983-c7af-cb78297dbdff"
   },
   "outputs": [
    {
     "name": "stdout",
     "output_type": "stream",
     "text": [
      "Average number of webpage links per personality category:\n"
     ]
    },
    {
     "data": {
      "image/png": "[encoded data removed]",
      "text/plain": [
       "<Figure size 1584x7200 with 4 Axes>"
      ]
     },
     "metadata": {
      "needs_background": "light"
     },
     "output_type": "display_data"
    }
   ],
   "source": [
    "# Count the number of webpage links\n",
    "train_clean['url_count'] = train_clean['posts'].apply(lambda row: len(['url' for word in row if word == 'url']))\n",
    "\n",
    "# Plot the average number of webpage links per personality category\n",
    "print('Average number of webpage links per personality category:')\n",
    "plt.subplots(figsize=(22, 100))\n",
    "for i in range(len(columns)):\n",
    "    j = i+1\n",
    "    plt.subplot(22,4,j)\n",
    "    df = train_clean.groupby(columns[i])[['url_count']].mean()\n",
    "    df.index = ticks[i]\n",
    "    sns.barplot(x=df.index, y=df['url_count'], palette='Blues')\n",
    "    plt.xlabel(columns[i])"
   ]
  },
  {
   "cell_type": "code",
   "execution_count": 21,
   "metadata": {
    "colab": {
     "base_uri": "https://localhost:8080/",
     "height": 290
    },
    "colab_type": "code",
    "id": "4l2xkPm9aWhf",
    "outputId": "e08f9ab5-a587-4973-a5ec-654cc609bb4f"
   },
   "outputs": [
    {
     "name": "stdout",
     "output_type": "stream",
     "text": [
      "Average number of exclamation marks used per personality category:\n"
     ]
    },
    {
     "data": {
      "image/png": "[encoded data removed]",
      "text/plain": [
       "<Figure size 1584x7200 with 4 Axes>"
      ]
     },
     "metadata": {
      "needs_background": "light"
     },
     "output_type": "display_data"
    }
   ],
   "source": [
    "# Count the number of exclamation marks used\n",
    "train_clean['exclamation'] = train_clean['posts'].apply(lambda row: len(['!' for word in row if word == '!']))\n",
    "\n",
    "# Plot the average number of exclamation marks used per personality category\n",
    "print('Average number of exclamation marks used per personality category:')\n",
    "plt.subplots(figsize=(22, 100))\n",
    "for i in range(len(columns)):\n",
    "    j = i+1\n",
    "    plt.subplot(22,4,j)\n",
    "    df = train_clean.groupby(columns[i])[['exclamation']].mean()\n",
    "    df.index = ticks[i]\n",
    "    sns.barplot(x=df.index, y=df['exclamation'], palette='Purples')\n",
    "    plt.xlabel(columns[i])"
   ]
  },
  {
   "cell_type": "code",
   "execution_count": 22,
   "metadata": {
    "colab": {
     "base_uri": "https://localhost:8080/",
     "height": 290
    },
    "colab_type": "code",
    "id": "4aauMkoNaXGv",
    "outputId": "2e2fa2f5-678c-4c4d-bc01-3750dae42001"
   },
   "outputs": [
    {
     "name": "stdout",
     "output_type": "stream",
     "text": [
      "Average use of 'I' per personality category:\n"
     ]
    },
    {
     "data": {
      "image/png": "[encoded data removed]",
      "text/plain": [
       "<Figure size 1584x7200 with 4 Axes>"
      ]
     },
     "metadata": {
      "needs_background": "light"
     },
     "output_type": "display_data"
    }
   ],
   "source": [
    "# Count the use of pronoun 'I'\n",
    "train_clean['I'] = train_clean['posts'].apply(lambda row: len(['i' for word in row if word == 'i']))\n",
    "\n",
    "# Plot the average number of times 'I' is used per personality category\n",
    "print(\"Average use of 'I' per personality category:\")\n",
    "plt.subplots(figsize=(22, 100))\n",
    "for i in range(len(columns)):\n",
    "    j = i+1\n",
    "    plt.subplot(22,4,j)\n",
    "    df = train_clean.groupby(columns[i])[['I']].mean()\n",
    "    df.index = ticks[i]\n",
    "    sns.barplot(x=df.index, y=df['I'], palette='Oranges')\n",
    "    plt.xlabel(columns[i])"
   ]
  },
  {
   "cell_type": "code",
   "execution_count": 23,
   "metadata": {
    "colab": {
     "base_uri": "https://localhost:8080/",
     "height": 290
    },
    "colab_type": "code",
    "id": "VXzsyjJlv8sa",
    "outputId": "a612600b-3e7f-488c-ed47-7da216a99eb9"
   },
   "outputs": [
    {
     "name": "stdout",
     "output_type": "stream",
     "text": [
      "Average use of twitter handles per personality category:\n"
     ]
    },
    {
     "data": {
      "image/png": "[encoded data removed]",
      "text/plain": [
       "<Figure size 1584x7200 with 4 Axes>"
      ]
     },
     "metadata": {
      "needs_background": "light"
     },
     "output_type": "display_data"
    }
   ],
   "source": [
    "# Count the use of twitter handles\n",
    "train_clean['handle'] = train_clean['posts'].apply(lambda row: len(['handle' for word in row if word == 'twithandle']))\n",
    "\n",
    "# Plot the average number of twitter handles used per personality category\n",
    "print(\"Average use of twitter handles per personality category:\")\n",
    "plt.subplots(figsize=(22, 100))\n",
    "for i in range(len(columns)):\n",
    "    j = i+1\n",
    "    plt.subplot(22,4,j)\n",
    "    df = train_clean.groupby(columns[i])[['handle']].mean()\n",
    "    df.index = ticks[i]\n",
    "    sns.barplot(x=df.index, y=df['handle'], palette='Reds')\n",
    "    plt.xlabel(columns[i])"
   ]
  },
  {
   "cell_type": "markdown",
   "metadata": {
    "colab_type": "text",
    "id": "kdrvDIx7r_4l"
   },
   "source": [
    "Looking at the breakdown of posts between the categories, we can again see that imbalanced classes. The biggest difference is between I and E, and S and N. As an exercise, not shown in this notebook, we have investigated both resampling with replacement, as well as sampling subsets, in order to equal out the number of posts across categories. This can be done using the sklearn.utils.resample function. However, we have found that resampling does not enhance model performance for any of the categories.\n",
    "\n",
    "We can see that the average number of use of selected characters and tags vary between categories. From observation, not statistically speaking, we note the following:\n",
    "- Emoticons: Intuitive, feeling, and judging personalities respectively tend to use more emoticons that their sensing, thinking, and perceiving counterparts.\n",
    "- Webpage links: The biggest difference in the average number of webpage links posted is between introverts and extroverts.\n",
    "- Exclamation marks: Introverts vs. extroverts and feeling vs. thinking personalities show the biggest difference in average use of exclamation marks.\n",
    "- 'I': The average use of 'I' appears fairly similar across categories, with feeling personalities using 'I' slightly more.\n",
    "- Twitter handles: The biggest difference in the average use of twitter handles appears to be between extroverts and introverts, with introverts using less handles.\n",
    "\n",
    "All in all, there do seem to be differences in the posts from different personality types. We can thus proceed use the posts to create vectors and explore classification models. "
   ]
  },
  {
   "cell_type": "markdown",
   "metadata": {
    "colab_type": "text",
    "id": "rzdtz8e4dRDg"
   },
   "source": [
    "# Vectorization and model exploration"
   ]
  },
  {
   "cell_type": "markdown",
   "metadata": {
    "colab_type": "text",
    "id": "8yqrAkmeG1w7"
   },
   "source": [
    "## TfidfVectorizer"
   ]
  },
  {
   "cell_type": "markdown",
   "metadata": {
    "colab_type": "text",
    "id": "BRgZSdG83cgC"
   },
   "source": [
    "As we would like to increase emphasis on word tokens that appear less frequent among the posts, relative to word tokens that appear in almost all posts, we decided to employ the nltk TfidfVectorizer. The TfidfVectorizer calculates the term (token) frequencies (Tf), and multiplies it by the logarithm of the ratio between the number of records and the number of records that contain the specific term (the inverse document frequency or idf). As such, it will \"penalize\" the term frequency according to the inverse document frequency and give more weight to less frequent, but important terms (tokens). \n",
    "\n",
    "In addition to the word tokens, we would also like to capture some phrase context. We therefore also investigated the inclusion of bigrams and trigrams in the vector (not shown). The inclusion of bigrams was found to provided the better predictive capability. Only tokens and bigrams that occur more than once among the training records will be included in the vector. We will again define a function to fit the vectorizer to the specified training set parameter, and subsequently vectorize both the specified training and test set parameters similarly. "
   ]
  },
  {
   "cell_type": "code",
   "execution_count": 24,
   "metadata": {
    "colab": {},
    "colab_type": "code",
    "id": "x5utWoVTCTBD"
   },
   "outputs": [],
   "source": [
    "# Import vectorizer\n",
    "from sklearn.feature_extraction.text import TfidfVectorizer\n",
    "\n",
    "# Initialise vectorizer\n",
    "tt = TfidfVectorizer(preprocessor=list, tokenizer=list, ngram_range=(1,2), min_df=2, smooth_idf=False)\n",
    "\n",
    "# Define vectorization function\n",
    "def vectorise(train_set, test_set):\n",
    "    \n",
    "    \"\"\"Fit a vector to train_set and transform train_set and test_set accordingly. \n",
    "    Args:\n",
    "        train_set (array or DataFrame): train features to vectorize\n",
    "        test_set (array or DataFrame): test features to vectorize\n",
    "    Returns:\n",
    "        train_vect (sparse array): train_set vector\n",
    "        test_vect (sparse array): test_set vector\n",
    "    \"\"\"\n",
    "    \n",
    "    tt.fit(train_set)\n",
    "    train_vect = tt.transform(train_set)\n",
    "    test_vect = tt.transform(test_set)\n",
    "    \n",
    "    return train_vect, test_vect\n"
   ]
  },
  {
   "cell_type": "markdown",
   "metadata": {
    "colab_type": "text",
    "id": "t_dzPWhrIeeX"
   },
   "source": [
    "## Hyperparameter search with GridSearchCV\n"
   ]
  },
  {
   "cell_type": "markdown",
   "metadata": {
    "colab_type": "text",
    "id": "7KsnyMa1Kygv"
   },
   "source": [
    "The scoring metric used for model evaluation in the Kaggle competition is the average log loss across the four personality categories. Log loss for a binary prediction is calculated as follows:\n",
    "\n",
    "log loss = -(y\\log(p) + (1 - y)\\log(1 - p))\n",
    "\n",
    "where:\n",
    "- y: true class (i.e. 0 or 1)\n",
    "- p: predicted probability\n",
    "- log: natural logarithm\n",
    "\n",
    "Log loss thus takes the uncertainty of the prediction into account (http://wiki.fast.ai/index.php/Log_Loss).\n",
    "\n",
    "Since the scoring metric used requires the probability of predicting a class, we opted to investigate various classification models that are based on probability predictions to make class assignments. These include Multinomial Naive Bayes, Logistic Regression, and Random Forests. We found that Logistic Regression performed the best on the task at hand. Therefore, we will henceforth only discuss our implementation of Logistic Regression. However, with the standardized way of implementing models using sklearn libraries, it should be noted that the code below can easily be tailored to investigate all the aforementioned models. \n"
   ]
  },
  {
   "cell_type": "markdown",
   "metadata": {
    "colab_type": "text",
    "id": "V4N5da5SZEhx"
   },
   "source": [
    "Logistic regression in sklearn facilitate L1 regularization when the liblinear solver in used. Since we have a large feature vector, L1 regularization will aid in reducing the number of features, as it is able to shrink coefficients to zero. Using Logistic Regression with the liblinear solver and L1 regularization then leaves the hyperparameter 'C' to be tuned. 'C' controls the amount of regularization, such that a smaller value for 'C' enforce greater regularization. \n",
    "\n",
    "We will use the sklearn GridSearchCV function to automatically search through a specified list of values for 'C'. As GridSearchCV maximizes the scoring metric, the negative log loss will be used. Log loss will thus in effect be minimized. The average negative log loss across four-fold cross-validation will be used for comparing the different values of 'C'.\n",
    "\n",
    "As the different personality type categories have different distributions, and are in essence different binary classification problems, the hyperparameter 'C' will be tuned for each category separately."
   ]
  },
  {
   "cell_type": "code",
   "execution_count": 25,
   "metadata": {
    "colab": {},
    "colab_type": "code",
    "id": "iktmh6JHTuBC"
   },
   "outputs": [],
   "source": [
    "# Import models, metrics, and model selection utilities\n",
    "from sklearn.model_selection import train_test_split, GridSearchCV\n",
    "from sklearn.metrics import log_loss, confusion_matrix, accuracy_score\n",
    "from sklearn.linear_model import LogisticRegression"
   ]
  },
  {
   "cell_type": "markdown",
   "metadata": {
    "colab_type": "text",
    "id": "Z3-DKaO4zsSx"
   },
   "source": [
    "Cross-validation uses the full complement of the training set. Therefore, the vectorizer will be fitted to the entire training set."
   ]
  },
  {
   "cell_type": "code",
   "execution_count": 26,
   "metadata": {
    "colab": {
     "base_uri": "https://localhost:8080/",
     "height": 34
    },
    "colab_type": "code",
    "id": "M11muDIwDnf0",
    "outputId": "af3b71e1-1884-43c7-95a5-870ab80d6f2d"
   },
   "outputs": [
    {
     "data": {
      "text/plain": [
       "(6506, 455403)"
      ]
     },
     "execution_count": 26,
     "metadata": {},
     "output_type": "execute_result"
    }
   ],
   "source": [
    "# Vectorize training posts\n",
    "X_train_vect, X_test_vect = vectorise(train_clean['posts'], test_clean['posts'])\n",
    "X_train_vect.shape"
   ]
  },
  {
   "cell_type": "code",
   "execution_count": 27,
   "metadata": {
    "colab": {
     "base_uri": "https://localhost:8080/",
     "height": 230
    },
    "colab_type": "code",
    "id": "kuvqp138LhRQ",
    "outputId": "b5a8b8f0-8838-4986-8952-dead284c15c7"
   },
   "outputs": [
    {
     "name": "stdout",
     "output_type": "stream",
     "text": [
      "mind:\n",
      "Best score:  0.32739649931191\n",
      "Best paramaters:  {'C': 5}\n",
      "\n",
      "\n",
      "energy:\n",
      "Best score:  0.2492250646250336\n",
      "Best paramaters:  {'C': 5}\n",
      "\n",
      "\n",
      "nature:\n",
      "Best score:  0.3546820513078578\n",
      "Best paramaters:  {'C': 5}\n",
      "\n",
      "\n",
      "tactics:\n",
      "Best score:  0.42540339075146544\n",
      "Best paramaters:  {'C': 5}\n",
      "\n",
      "\n"
     ]
    }
   ],
   "source": [
    "# Initialize the model to be used\n",
    "cm = LogisticRegression(penalty='l1', solver='liblinear', random_state=11)\n",
    "\n",
    "# Specify the range of 'C' parameters\n",
    "params = {'C': [0.1, 0.5, 1, 5, 10, 50, 100]}\n",
    "\n",
    "# Initialize the grid search\n",
    "grid = GridSearchCV(cm, param_grid=params, scoring='neg_log_loss', n_jobs=-1, cv=4)\n",
    "\n",
    "# Execute a grid search for each personality category\n",
    "categories = ['mind', 'energy', 'nature', 'tactics']\n",
    "for cat in categories:\n",
    "    grid.fit(X_train_vect, train_clean[cat])\n",
    "    print(cat + ':')\n",
    "    print('Best score: ', -grid.best_score_)\n",
    "    print('Best paramaters: ', grid.best_params_)\n",
    "    print('\\n')"
   ]
  },
  {
   "cell_type": "markdown",
   "metadata": {
    "colab_type": "text",
    "id": "jn4UPQMpEQ5u"
   },
   "source": [
    "## Finer hyperparameter search with an isolated test set"
   ]
  },
  {
   "cell_type": "markdown",
   "metadata": {
    "colab_type": "text",
    "id": "l5njDzit3ByS"
   },
   "source": [
    "Since the aim is to construct a model that would be able to classify unseen data, we would further \"fine-tune\" the hyperparameter 'C' using a hold-out test set from the training data. The \"fine-tuning\" was manually done with 'C' values in the range of five to seven (not all results shown). "
   ]
  },
  {
   "cell_type": "code",
   "execution_count": 28,
   "metadata": {
    "colab": {
     "base_uri": "https://localhost:8080/",
     "height": 34
    },
    "colab_type": "code",
    "id": "0eTUup3psU3r",
    "outputId": "86164e49-5307-466b-8169-16b1750a2d3f"
   },
   "outputs": [
    {
     "data": {
      "text/plain": [
       "(4879, 357437)"
      ]
     },
     "execution_count": 28,
     "metadata": {},
     "output_type": "execute_result"
    }
   ],
   "source": [
    "# Partition a rondom test set from the training data\n",
    "X_train, X_test, y_train, y_test = train_test_split(train_clean['posts'], train_clean[['mind', 'energy', 'nature', 'tactics']], random_state=11)\n",
    "\n",
    "# Vectorize the training and test sets\n",
    "X_train_vect, X_test_vect = vectorise(X_train, X_test)\n",
    "X_train_vect.shape"
   ]
  },
  {
   "cell_type": "code",
   "execution_count": 29,
   "metadata": {
    "colab": {},
    "colab_type": "code",
    "id": "B-K3g8MDF7sC"
   },
   "outputs": [],
   "source": [
    "# Define model building function\n",
    "def build_model(X_train_vect_f, X_test_vect_f, y_train_f, y_test_f, model):\n",
    "    \"\"\"Fit the specified model, make predictions, and calculate the log loss and confusion matrix.\n",
    "    Args:\n",
    "        X (array or DataFrame): independent variables\n",
    "        y (array or DataFrame): dependent variable\n",
    "        model (model): sklearn model and parameters\n",
    "    Returns:\n",
    "        train_pred (array): predictions from training data \n",
    "        test_pred (array): predictions from test data\n",
    "        train_loss (float): log loss on training data\n",
    "        test_loss (float): log loss on test data\n",
    "        test_accuracy (float): accuracy score on test data\n",
    "        test_matrix (array): confusion matrix on test data \n",
    "    \"\"\"\n",
    "    \n",
    "    model.fit(X_train_vect_f, y_train_f)                         # fit model using training data\n",
    "\n",
    "    train_pred = model.predict(X_train_vect_f)                   # predict training set labels\n",
    "    test_pred = model.predict(X_test_vect_f)                     # predict test set labels\n",
    "    \n",
    "    train_proba = model.predict_proba(X_train_vect_f)            # predict label probabilities from training set\n",
    "    test_proba = model.predict_proba(X_test_vect_f)              # predict label probabilities from test set\n",
    "    \n",
    "    train_loss = log_loss(y_train_f, train_proba, eps=1e-15)     # log loss on training data\n",
    "    test_loss = log_loss(y_test_f, test_proba, eps=1e-15)        # log loss on test data   \n",
    "    \n",
    "    test_accuracy = accuracy_score(y_test_f, test_pred)          # accuracy score on test data\n",
    "    test_matrix = confusion_matrix(y_test_f, test_pred)          # confusion matrix on test data\n",
    "        \n",
    "    return train_pred, test_pred, train_loss, test_loss, test_accuracy, test_matrix"
   ]
  },
  {
   "cell_type": "code",
   "execution_count": 30,
   "metadata": {
    "colab": {},
    "colab_type": "code",
    "id": "mIZ4OrdvCVDf"
   },
   "outputs": [],
   "source": [
    "# Initialize a list to store log loss and accuracy on test sets\n",
    "ll_scores = []\n",
    "ac_scores = []"
   ]
  },
  {
   "cell_type": "code",
   "execution_count": 31,
   "metadata": {
    "colab": {
     "base_uri": "https://localhost:8080/",
     "height": 105
    },
    "colab_type": "code",
    "id": "jhQPDdhpAjpH",
    "outputId": "a4f9ebff-b74c-4ebf-8517-00e0823d55d1"
   },
   "outputs": [
    {
     "name": "stdout",
     "output_type": "stream",
     "text": [
      "Mind:\n",
      "Log loss on training set:  0.27136413008194193\n",
      "Log loss on test set:  0.3323337490326729\n",
      "Accuracy on test set: 0.858020897357099\n",
      "Test set confusion matrix: \n",
      " [[1186   70]\n",
      " [ 161  210]]\n"
     ]
    }
   ],
   "source": [
    "# Initialize model for the mind category\n",
    "cm = LogisticRegression(penalty='l1', solver='liblinear', C=4, random_state=11)\n",
    "\n",
    "# Train and test the model for the mind category\n",
    "pred_train, pred_test, loss_train, loss_test, acc_test, matrix_test = build_model(X_train_vect, X_test_vect, y_train['mind'], y_test['mind'], cm)\n",
    "ll_scores.append(loss_test)\n",
    "ac_scores.append(acc_test)\n",
    "print('Mind:')\n",
    "print('Log loss on training set: ',loss_train)\n",
    "print('Log loss on test set: ', loss_test)\n",
    "print('Accuracy on test set:', acc_test)\n",
    "print('Test set confusion matrix: \\n', matrix_test)"
   ]
  },
  {
   "cell_type": "code",
   "execution_count": 32,
   "metadata": {
    "colab": {
     "base_uri": "https://localhost:8080/",
     "height": 105
    },
    "colab_type": "code",
    "id": "JYy-JHX7EWq3",
    "outputId": "6898f325-3b32-4705-d12f-c702179d03b3"
   },
   "outputs": [
    {
     "name": "stdout",
     "output_type": "stream",
     "text": [
      "Energy:\n",
      "Log loss on training set:  0.187580331225725\n",
      "Log loss on test set:  0.2503280173390885\n",
      "Accuracy on test set: 0.9108789182544561\n",
      "Test set confusion matrix: \n",
      " [[ 100  113]\n",
      " [  32 1382]]\n"
     ]
    }
   ],
   "source": [
    "# Initialize model for the energy category\n",
    "cm = LogisticRegression(penalty='l1', solver='liblinear', C=5, random_state=11)\n",
    "\n",
    "# Train and test the model for the energy category\n",
    "pred_train, pred_test, loss_train, loss_test, acc_test, matrix_test = build_model(X_train_vect, X_test_vect, y_train['energy'], y_test['energy'], cm)\n",
    "ll_scores.append(loss_test)\n",
    "ac_scores.append(acc_test)\n",
    "print('Energy:')\n",
    "print('Log loss on training set: ',loss_train)\n",
    "print('Log loss on test set: ', loss_test)\n",
    "print('Accuracy on test set:', acc_test)\n",
    "print('Test set confusion matrix: \\n', matrix_test)"
   ]
  },
  {
   "cell_type": "code",
   "execution_count": 33,
   "metadata": {
    "colab": {
     "base_uri": "https://localhost:8080/",
     "height": 105
    },
    "colab_type": "code",
    "id": "_nBA-TKIEW4O",
    "outputId": "13fc0e27-4791-4f87-fa0a-f560c5c5e6e4"
   },
   "outputs": [
    {
     "name": "stdout",
     "output_type": "stream",
     "text": [
      "Nature:\n",
      "Log loss on training set:  0.2555240618189761\n",
      "Log loss on test set:  0.366431216984591\n",
      "Accuracy on test set: 0.8506453595574678\n",
      "Test set confusion matrix: \n",
      " [[778 110]\n",
      " [133 606]]\n"
     ]
    }
   ],
   "source": [
    "# Initialize model for the nature category\n",
    "cm = LogisticRegression(penalty='l1', solver='liblinear', C=5, random_state=11)\n",
    "\n",
    "# Train and test the model for the nature category\n",
    "pred_train, pred_test, loss_train, loss_test, acc_test, matrix_test = build_model(X_train_vect, X_test_vect, y_train['nature'], y_test['nature'], cm)\n",
    "ll_scores.append(loss_test)\n",
    "ac_scores.append(acc_test)\n",
    "print('Nature:')\n",
    "print('Log loss on training set: ',loss_train)\n",
    "print('Log loss on test set: ', loss_test)\n",
    "print('Accuracy on test set:', acc_test)\n",
    "print('Test set confusion matrix: \\n', matrix_test)"
   ]
  },
  {
   "cell_type": "code",
   "execution_count": 34,
   "metadata": {
    "colab": {
     "base_uri": "https://localhost:8080/",
     "height": 105
    },
    "colab_type": "code",
    "id": "wXaUSZphEXEe",
    "outputId": "b5420122-f30f-4c0c-90b5-321e63cfdbbe"
   },
   "outputs": [
    {
     "name": "stdout",
     "output_type": "stream",
     "text": [
      "Tactics:\n",
      "Log loss on training set:  0.38746807335470745\n",
      "Log loss on test set:  0.40373665891275684\n",
      "Accuracy on test set: 0.832821143208359\n",
      "Test set confusion matrix: \n",
      " [[910  96]\n",
      " [176 445]]\n"
     ]
    }
   ],
   "source": [
    "# Initialize model for the tactics category\n",
    "cm = LogisticRegression(penalty='l1', solver='liblinear', C=3, random_state=11)\n",
    "\n",
    "# Train and test the model for the tactics category\n",
    "pred_train, pred_test, loss_train, loss_test, acc_test, matrix_test = build_model(X_train_vect, X_test_vect, y_train['tactics'], y_test['tactics'], cm)\n",
    "ll_scores.append(loss_test)\n",
    "ac_scores.append(acc_test)\n",
    "print('Tactics:')\n",
    "print('Log loss on training set: ',loss_train)\n",
    "print('Log loss on test set: ', loss_test)\n",
    "print('Accuracy on test set:', acc_test)\n",
    "print('Test set confusion matrix: \\n', matrix_test)"
   ]
  },
  {
   "cell_type": "code",
   "execution_count": 35,
   "metadata": {
    "colab": {
     "base_uri": "https://localhost:8080/",
     "height": 34
    },
    "colab_type": "code",
    "id": "GntVuaVYCsTP",
    "outputId": "d183a6dd-96dd-45d4-c8f8-bdab7d0385e6"
   },
   "outputs": [
    {
     "name": "stdout",
     "output_type": "stream",
     "text": [
      "Average log loss across personality categories:  0.338\n",
      "Average accuracy across personality categories:  0.863\n"
     ]
    }
   ],
   "source": [
    "print('Average log loss across personality categories: ', round(np.mean(ll_scores), 3))\n",
    "print('Average accuracy across personality categories: ', round(np.mean(ac_scores), 3))"
   ]
  },
  {
   "cell_type": "markdown",
   "metadata": {},
   "source": [
    "Optimal 'C' values for each personality category was found to be as follows:\n",
    "- Mind: 4\n",
    "- Energy: 5\n",
    "- Nature: 5\n",
    "- Tactics: 3\n",
    "\n",
    "These hyperparameter settings resulted in an average log loss of around 0.34 across the different personality type categories. In addition, for the respective categories, the log loss on the training and test sets were within 1.5-fold of each other. Thus, the models are not overfitting the training data and we can expect them to be able to generalize to unseen data.\n",
    "An average accuracy score of around 86% were achieved across the models. Individually, the models also perform better than predicting the majority class of each personality category."
   ]
  },
  {
   "cell_type": "markdown",
   "metadata": {
    "colab_type": "text",
    "id": "YW6XrwVWEmBT"
   },
   "source": [
    "## Kaggle test output"
   ]
  },
  {
   "cell_type": "markdown",
   "metadata": {
    "colab_type": "text",
    "id": "qg_qG_89-wU7"
   },
   "source": [
    "The Kaggle competition supplies a \"type-blinded\" test set. Therefore, we can use all the given training data to construct the final classification model for each personality type category. \n",
    "\n",
    "Log loss, thus a score based on the probabilities, is stipulated as the scoring metric for the competition. However, the example submission seem to contain the predicted 0 and 1 labels for each personality type category. We will thus investigate both the predicted labels, as well as the probability predictions as outputs."
   ]
  },
  {
   "cell_type": "code",
   "execution_count": 36,
   "metadata": {
    "colab": {
     "base_uri": "https://localhost:8080/",
     "height": 34
    },
    "colab_type": "code",
    "id": "XW1vqQWTEbSO",
    "outputId": "3453e026-0ef3-4f5a-d957-425ce86cf0f1"
   },
   "outputs": [
    {
     "data": {
      "text/plain": [
       "(6506, 455403)"
      ]
     },
     "execution_count": 36,
     "metadata": {},
     "output_type": "execute_result"
    }
   ],
   "source": [
    "# Initialize output dataframe\n",
    "results = test[['id']]\n",
    "\n",
    "# Vectorize the training and test sets\n",
    "X_train_vect, X_test_vect = vectorise(train_clean['posts'], test_clean['posts'])\n",
    "X_train_vect.shape"
   ]
  },
  {
   "cell_type": "markdown",
   "metadata": {
    "colab_type": "text",
    "id": "DbcphdOvJXiv"
   },
   "source": [
    "### Label output"
   ]
  },
  {
   "cell_type": "code",
   "execution_count": 37,
   "metadata": {
    "colab": {},
    "colab_type": "code",
    "id": "qqegkuNZ-t79"
   },
   "outputs": [],
   "source": [
    "c_vals = [4, 5, 5, 3]      # C parameter list for final models\n",
    "class1_proba = []          # List to store model probability predictions\n",
    "\n",
    "# Train final classification models for each category\n",
    "for i in range(4):\n",
    "    cm = LogisticRegression(penalty='l1', solver='liblinear', C=c_vals[i], random_state=11)\n",
    "    cm.fit(X_train_vect, train[categories[i]].values)\n",
    "    pred_test = cm.predict(X_test_vect)                 # Predict labels\n",
    "    results[categories[i]] = pred_test                  # Compile label results\n",
    "    probability = cm.predict_proba(X_test_vect)         # Predict probabilities\n",
    "    class1_proba.append(probability[:,1])               # Save probabilities for predicting class label 1"
   ]
  },
  {
   "cell_type": "code",
   "execution_count": 38,
   "metadata": {
    "colab": {},
    "colab_type": "code",
    "id": "4lse2cZrDJ43"
   },
   "outputs": [],
   "source": [
    "results.to_csv('MBTI_l1_liblinear_C4553_split_tt_all_pp_emoji_lib_handles.csv', index=False)\n",
    "# Kaggle public score: 4.64397"
   ]
  },
  {
   "cell_type": "markdown",
   "metadata": {
    "colab_type": "text",
    "id": "z9epq56eLkqW"
   },
   "source": [
    "The public Kaggle score on the label predictions are 4.6397, which is far off from what we have seen for the cross-validation and hold-out model assessments."
   ]
  },
  {
   "cell_type": "markdown",
   "metadata": {
    "colab_type": "text",
    "id": "rT6iHmRNQuSm"
   },
   "source": [
    "### Probability output"
   ]
  },
  {
   "cell_type": "code",
   "execution_count": 39,
   "metadata": {
    "colab": {},
    "colab_type": "code",
    "id": "9Ql7iJ9HQlko"
   },
   "outputs": [],
   "source": [
    "# Compile probability results\n",
    "for i in range(4):\n",
    "    results[categories[i]] = class1_proba[i]"
   ]
  },
  {
   "cell_type": "code",
   "execution_count": 40,
   "metadata": {
    "colab": {},
    "colab_type": "code",
    "id": "nIwW9jLS_ZBn"
   },
   "outputs": [],
   "source": [
    "results.to_csv('MBTI_l1_liblinear_C4553_split_tt_all_pp_emoji_lib_handles_proba.csv', index=False)\n",
    "# Kaggle public score: 0.34227"
   ]
  },
  {
   "cell_type": "markdown",
   "metadata": {
    "colab_type": "text",
    "id": "UjmlqE01Lpp7"
   },
   "source": [
    "The public Kaggle log loss score given the probabilities comes to 0.34227, which is in line with what we have seen during the model assessments."
   ]
  },
  {
   "cell_type": "markdown",
   "metadata": {
    "colab": {},
    "colab_type": "code",
    "id": "RcZeaU0AREhP"
   },
   "source": [
    "# Conclusions\n",
    "\n",
    "Predicting personality types using twitter posts relies on they hypothesis that there is a distinction between the words, phrases, topics, and style used by people of different personalities. Finding the distinctions were facilitated by the implementation of a selection of natural language processing tasks. The tasks included punctuation adjustments, labeling of similar entities such as twitter handles, webpage links, and emoticons, and the removal of \"common words with little meaning\" (stopwords).Taking the document frequency of words into account during vectorization helped to increase the importance of words that might be of more relevance.\n",
    "\n",
    "As the word feature space were large, the employment of Logistic Regression models, that is capable of feature selection through regularization, proved successful. The Logistic Regression models for each personality type category generalized to unseen test data. It provided predictive capability beyond that of predicting the majority class, and afforded an accuracy across predictions of 86%.\n"
   ]
  },
  {
   "cell_type": "code",
   "execution_count": null,
   "metadata": {},
   "outputs": [],
   "source": []
  }
 ],
 "metadata": {
  "accelerator": "GPU",
  "colab": {
   "collapsed_sections": [],
   "name": "MBTI_emoji_lib_split_mind_4-882.ipynb",
   "provenance": [],
   "version": "0.3.2"
  },
  "kernelspec": {
   "display_name": "Python 3",
   "language": "python",
   "name": "python3"
  },
  "language_info": {
   "codemirror_mode": {
    "name": "ipython",
    "version": 3
   },
   "file_extension": ".py",
   "mimetype": "text/x-python",
   "name": "python",
   "nbconvert_exporter": "python",
   "pygments_lexer": "ipython3",
   "version": "3.6.6"
  }
 },
 "nbformat": 4,
 "nbformat_minor": 1
}
